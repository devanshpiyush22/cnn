{
 "cells": [
  {
   "cell_type": "code",
   "execution_count": null,
   "metadata": {},
   "outputs": [
    {
     "name": "stderr",
     "output_type": "stream",
     "text": [
      "C:\\Users\\HP\\anaconda3\\lib\\site-packages\\sklearn\\base.py:318: UserWarning: Trying to unpickle estimator KNeighborsClassifier from version 0.21.3 when using version 0.22.1. This might lead to breaking code or invalid results. Use at your own risk.\n",
      "  UserWarning)\n"
     ]
    },
    {
     "name": "stdout",
     "output_type": "stream",
     "text": [
      "Pre Processing complete\n"
     ]
    },
    {
     "name": "stderr",
     "output_type": "stream",
     "text": [
      "Exception in Tkinter callback\n",
      "Traceback (most recent call last):\n",
      "  File \"C:\\Users\\HP\\anaconda3\\lib\\tkinter\\__init__.py\", line 1705, in __call__\n",
      "    return self.func(*args)\n",
      "  File \"<ipython-input-90-308086804d5a>\", line 72, in predict\n",
      "    digit = classifier.predict([img])\n",
      "  File \"C:\\Users\\HP\\anaconda3\\lib\\site-packages\\sklearn\\neighbors\\_classification.py\", line 173, in predict\n",
      "    neigh_dist, neigh_ind = self.kneighbors(X)\n",
      "  File \"C:\\Users\\HP\\anaconda3\\lib\\site-packages\\sklearn\\neighbors\\_base.py\", line 612, in kneighbors\n",
      "    n_samples_fit = self.n_samples_fit_\n",
      "AttributeError: 'KNeighborsClassifier' object has no attribute 'n_samples_fit_'\n"
     ]
    }
   ],
   "source": [
    "from tkinter import *\n",
    "import tkinter as tk\n",
    "from PIL import Image, ImageGrab, ImageOps\n",
    "import numpy as np\n",
    "import joblib\n",
    "classifier = joblib.load('knn_model.gzip')\n",
    "class GUI(tk.Tk):\n",
    "    def __init__(self):\n",
    "        tk.Tk.__init__(self)\n",
    "        self.canvas_width = 600\n",
    "        self.canvas_height = 400\n",
    "        self.geometry(\"900x650+10+10\")\n",
    "        self.bg_color = \"White\"\n",
    "        self.paint_color = \"black\"\n",
    "        self.radius = 5\n",
    "        self.title(\"Equation Solver GAIP Project\")\n",
    "        lb1=Label(self, text=\"Draw Your Equation here!\", fg='green', font=(\"Helvetica\", 16))\n",
    "        lb2=Label(self, text=\"Prediction Feedback\", fg='blue', font=(\"Helvetica\", 10))\n",
    "        lb1.place(x=620, y=50)\n",
    "        lb2.place(x=680, y=500)\n",
    "        self.init_canvas()\n",
    "        \n",
    "    def init_canvas(self):\n",
    "        self.canvas = Canvas(self, width=self.canvas_width, height=self.canvas_width, bg = self.bg_color, cursor=\"cross\")\n",
    "        self.button_clear = tk.Button(self, text = \"Clear Screen\", command = self.clear_all)\n",
    "        self.button_predict = tk.Button(self, text = \"Predict & Solve\", command = self.predict)\n",
    "        self.label_digit = tk.Label(self, text=\"\", font=(\"Helvetica\"))\n",
    "        self.label_accuracy = tk.Label(self, text=\"Accuracy=\", font=(\"Helvetica\"))\n",
    "        self.canvas.grid(row=0, column=0, pady=2, sticky=W, )\n",
    "        self.button_clear.grid(row=1, column=0, pady=2)\n",
    "        self.button_predict.place(x=695,y=400)\n",
    "        self.label_digit.grid(row=0, column=1, padx=2, pady=2)\n",
    "        self.canvas.bind(\"<B1-Motion>\", self.paint)\n",
    "        \n",
    "    def paint(self, event):\n",
    "        x1, y1 = (event.x - self.radius), (event.y - self.radius)\n",
    "        x2, y2 = (event.x + self.radius), (event.y + self.radius)\n",
    "        self.canvas.create_oval(x1, y1, x2, y2, fill=self.paint_color, outline=self.paint_color)\n",
    "\n",
    "    def clear_all(self):\n",
    "        self.canvas.delete(\"all\")\n",
    "    \n",
    "    def preprocess(self):\n",
    "        fileName = 'canvas_paint'\n",
    "        # Find Canvas Coordinates - I tweaked a little bit as a workaround\n",
    "        x = self.canvas.winfo_x() + self.winfo_x() + 100\n",
    "        y = self.canvas.winfo_y() + self.winfo_y() + 80\n",
    "        x1 = x + self.canvas_width\n",
    "        y1 = y + self.canvas_height\n",
    "        \n",
    "        # Screenshot and Save Image in Canvas\n",
    "        img = ImageGrab.grab().crop((x,y,x1,y1))\n",
    "        img.save(fileName + \".jpg\")\n",
    "        \n",
    "        # Invert Image\n",
    "        img = ImageOps.invert(img)\n",
    "        img.save(fileName + \"_negative\" + \".jpg\")\n",
    "        \n",
    "        # Resize and convert it into greyscale\n",
    "        img = img.resize((28,28))\n",
    "        img = img.convert('L')\n",
    "        img.save(fileName + \"_28x28\" + \".jpg\")\n",
    "        \n",
    "        # Convert it into Numpy array\n",
    "        img = np.array(img)\n",
    "        img = img.reshape(28*28)\n",
    "        print(\"Pre Processing complete\")\n",
    "        return img\n",
    "    \n",
    "    def predict(self):\n",
    "        img = self.preprocess()\n",
    "        digit = classifier.predict([img])\n",
    "        self.label_digit.configure(text=str(digit))\n",
    "        self.label_accuracy.configure(text=str(percentage))\n",
    "app = GUI()\n",
    "app.mainloop()"
   ]
  },
  {
   "cell_type": "code",
   "execution_count": null,
   "metadata": {},
   "outputs": [],
   "source": []
  },
  {
   "cell_type": "code",
   "execution_count": null,
   "metadata": {},
   "outputs": [],
   "source": []
  }
 ],
 "metadata": {
  "kernelspec": {
   "display_name": "Python 3",
   "language": "python",
   "name": "python3"
  },
  "language_info": {
   "codemirror_mode": {
    "name": "ipython",
    "version": 3
   },
   "file_extension": ".py",
   "mimetype": "text/x-python",
   "name": "python",
   "nbconvert_exporter": "python",
   "pygments_lexer": "ipython3",
   "version": "3.7.6"
  }
 },
 "nbformat": 4,
 "nbformat_minor": 4
}
